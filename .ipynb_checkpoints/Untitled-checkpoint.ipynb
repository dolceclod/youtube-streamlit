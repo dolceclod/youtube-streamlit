{
 "cells": [
  {
   "cell_type": "code",
   "execution_count": 3,
   "id": "40fa2d20",
   "metadata": {},
   "outputs": [
    {
     "name": "stdout",
     "output_type": "stream",
     "text": [
      "Hello\n"
     ]
    }
   ],
   "source": [
    "print('Hello')"
   ]
  },
  {
   "cell_type": "code",
   "execution_count": 6,
   "id": "56ee1ffd",
   "metadata": {},
   "outputs": [
    {
     "name": "stdout",
     "output_type": "stream",
     "text": [
      "ein\n",
      "zwei\n",
      "drei\n"
     ]
    }
   ],
   "source": [
    "mylist = ['ein', 'zwei', 'drei']\n",
    "for value in mylist:\n",
    "    print(value)"
   ]
  },
  {
   "cell_type": "markdown",
   "id": "cade164f",
   "metadata": {},
   "source": []
  }
 ],
 "metadata": {
  "kernelspec": {
   "display_name": "Python 3 (ipykernel)",
   "language": "python",
   "name": "python3"
  },
  "language_info": {
   "codemirror_mode": {
    "name": "ipython",
    "version": 3
   },
   "file_extension": ".py",
   "mimetype": "text/x-python",
   "name": "python",
   "nbconvert_exporter": "python",
   "pygments_lexer": "ipython3",
   "version": "3.9.7"
  }
 },
 "nbformat": 4,
 "nbformat_minor": 5
}
